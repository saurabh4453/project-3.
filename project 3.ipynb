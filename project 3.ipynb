{
 "cells": [
  {
   "cell_type": "code",
   "execution_count": 1,
   "id": "76e48d57-3286-4669-8d7d-b2c85d1948b7",
   "metadata": {},
   "outputs": [],
   "source": [
    "#Explain the significance of Python keywords and provide examples of five keywords"
   ]
  },
  {
   "cell_type": "code",
   "execution_count": 2,
   "id": "4039d1bc-5328-4df7-bf89-affa75a1547d",
   "metadata": {},
   "outputs": [
    {
     "name": "stdout",
     "output_type": "stream",
     "text": [
      "x is positive\n"
     ]
    }
   ],
   "source": [
    "#if-elif-else\n",
    "x = 10\n",
    "if x > 0:\n",
    "    print(\"x is positive\")\n",
    "elif x == 0:\n",
    "    print(\"x is zero\")\n",
    "else:\n",
    "    print(\"x is negative\")\n"
   ]
  },
  {
   "cell_type": "code",
   "execution_count": 3,
   "id": "9661e53b-d83a-4674-adfa-e90ba3e86adf",
   "metadata": {},
   "outputs": [
    {
     "name": "stdout",
     "output_type": "stream",
     "text": [
      "apple\n",
      "banana\n",
      "cherry\n"
     ]
    }
   ],
   "source": [
    "fruits = [\"apple\", \"banana\", \"cherry\"]\n",
    "for fruit in fruits:\n",
    "    print(fruit)\n"
   ]
  },
  {
   "cell_type": "code",
   "execution_count": 4,
   "id": "238218c3-f10d-4e3b-8922-866b9507f616",
   "metadata": {},
   "outputs": [
    {
     "name": "stdout",
     "output_type": "stream",
     "text": [
      "Hello, Alice!\n"
     ]
    }
   ],
   "source": [
    "def greet(name):\n",
    "    print(\"Hello, \" + name + \"!\")\n",
    "\n",
    "greet(\"Alice\")\n"
   ]
  },
  {
   "cell_type": "code",
   "execution_count": 5,
   "id": "08bebbd7-3f9e-4a3f-b5d7-135633910dd3",
   "metadata": {},
   "outputs": [
    {
     "name": "stdout",
     "output_type": "stream",
     "text": [
      "8\n"
     ]
    }
   ],
   "source": [
    "def add(x, y):\n",
    "    return x + y\n",
    "\n",
    "result = add(3, 5)\n",
    "print(result)  # Output: 8\n"
   ]
  },
  {
   "cell_type": "code",
   "execution_count": 6,
   "id": "4323410c-6932-459c-a68f-b917003dfd83",
   "metadata": {},
   "outputs": [
    {
     "name": "stdout",
     "output_type": "stream",
     "text": [
      "Yes, banana is in the list\n"
     ]
    }
   ],
   "source": [
    "fruits = [\"apple\", \"banana\", \"cherry\"]\n",
    "if \"banana\" in fruits:\n",
    "    print(\"Yes, banana is in the list\")\n"
   ]
  },
  {
   "cell_type": "code",
   "execution_count": 7,
   "id": "06f91e6c-1666-4a7c-ac35-8903284cbdf3",
   "metadata": {},
   "outputs": [],
   "source": [
    "#/ Descri0e the rules for defining identifiers in Python and provide an example"
   ]
  },
  {
   "cell_type": "code",
   "execution_count": 9,
   "id": "1c0ece06-d680-4f8e-ba90-83bd81d9bf66",
   "metadata": {},
   "outputs": [
    {
     "ename": "SyntaxError",
     "evalue": "invalid decimal literal (2868303576.py, line 9)",
     "output_type": "error",
     "traceback": [
      "\u001b[0;36m  Cell \u001b[0;32mIn[9], line 9\u001b[0;36m\u001b[0m\n\u001b[0;31m    2nd_variable = 5  # Identifier cannot start with a digit\u001b[0m\n\u001b[0m    ^\u001b[0m\n\u001b[0;31mSyntaxError\u001b[0m\u001b[0;31m:\u001b[0m invalid decimal literal\n"
     ]
    }
   ],
   "source": [
    "# Valid identifiers\n",
    "my_variable = 10\n",
    "MyVariable = 20\n",
    "my_variable_2 = 30\n",
    "my_function = lambda x: x * 2\n",
    "MyClass = MyClass()\n",
    "\n",
    "# Invalid identifiers\n",
    "2nd_variable = 5  # Identifier cannot start with a digit\n",
    "my-variable = 8   # Identifier cannot contain special characters\n",
    "for = 10          # 'for' is a reserved keyword\n"
   ]
  },
  {
   "cell_type": "code",
   "execution_count": 10,
   "id": "81cb777e-74ec-4c33-8d28-7af4cece8896",
   "metadata": {},
   "outputs": [],
   "source": [
    "#8 What are comments in Python, and why are they useful6 Provide an example"
   ]
  },
  {
   "cell_type": "code",
   "execution_count": 11,
   "id": "1703c410-2d90-48e2-a2c8-177d110683c9",
   "metadata": {},
   "outputs": [
    {
     "name": "stdout",
     "output_type": "stream",
     "text": [
      "The sum is: 8\n"
     ]
    }
   ],
   "source": [
    "# This is a single-line comment\n",
    "\n",
    "\"\"\"\n",
    "This is a multi-line comment.\n",
    "It can span multiple lines.\n",
    "\"\"\"\n",
    "\n",
    "# The following code calculates the sum of two numbers\n",
    "a = 5  # Assigning value 5 to variable 'a'\n",
    "b = 3  # Assigning value 3 to variable 'b'\n",
    "sum = a + b  # Adding 'a' and 'b'\n",
    "print(\"The sum is:\", sum)  # Displaying the sum\n"
   ]
  },
  {
   "cell_type": "code",
   "execution_count": 12,
   "id": "c3155d57-39ad-49f1-b502-4f71bb72c812",
   "metadata": {},
   "outputs": [],
   "source": [
    "#` Why is proper indentation important in Python6"
   ]
  },
  {
   "cell_type": "code",
   "execution_count": 14,
   "id": "38993446-be57-4d78-8816-f0e43fe2b988",
   "metadata": {},
   "outputs": [
    {
     "name": "stdout",
     "output_type": "stream",
     "text": [
      "Hello, Alice!\n"
     ]
    }
   ],
   "source": [
    "def greet(name):\n",
    "    if name:\n",
    "        print(\"Hello, \" + name + \"!\")\n",
    "    else:\n",
    "        print(\"Hello, world!\")\n",
    "\n",
    "greet(\"Alice\")\n"
   ]
  },
  {
   "cell_type": "code",
   "execution_count": null,
   "id": "fb3a8b3c-76ff-414e-afaf-641e70b164d7",
   "metadata": {},
   "outputs": [],
   "source": [
    "#k What happens if indentation is incorrect in Python6\n",
    "\n",
    "\n",
    "###\n",
    "If the indentation is incorrect in Python, it can lead to various issues, including syntax errors, logical errors, and unexpected behavior. Since Python relies heavily on indentation to determine the structure and scope of code blocks, incorrect indentation can cause the interpreter to misinterpret the intended logic of the code. Here are some common consequences of incorrect indentation in Python:\n",
    "\n",
    "Syntax Errors: Python will raise syntax errors if the indentation is not consistent or if it does not match the expected structure of the code. These errors typically occur when there are mismatched levels of indentation within the same block of code.\n",
    "\n",
    "Logical Errors: Incorrect indentation can change the logical flow of the code, causing it to behave differently from what was intended by the programmer. This can lead to bugs and unexpected results.\n",
    "\n",
    "Unreachable Code: In some cases, incorrect indentation can result in certain lines of code being unreachable or executed at unintended times. This can cause parts of the code to be skipped or ignored, leading to incomplete or incorrect execution.\n",
    "\n",
    "Misinterpretation of Scope: Incorrect indentation can lead to misinterpretation of variable scope, function definitions, or control flow statements. This can result in variables being accessed in the wrong scope or functions being defined or called incorrectly.\n",
    "\n",
    "Debugging Challenges: Debugging code with incorrect indentation can be challenging, as it may not be immediately obvious where the issue lies. Developers may spend more time trying to identify and fix indentation-related errors.\n",
    "\n",
    "Maintenance Difficulties: Code with inconsistent or incorrect indentation is harder to maintain and modify. It becomes more difficult for developers to understand the code's structure and make changes without introducing new errors.\n",
    "###"
   ]
  }
 ],
 "metadata": {
  "kernelspec": {
   "display_name": "Python 3 (ipykernel)",
   "language": "python",
   "name": "python3"
  },
  "language_info": {
   "codemirror_mode": {
    "name": "ipython",
    "version": 3
   },
   "file_extension": ".py",
   "mimetype": "text/x-python",
   "name": "python",
   "nbconvert_exporter": "python",
   "pygments_lexer": "ipython3",
   "version": "3.10.8"
  }
 },
 "nbformat": 4,
 "nbformat_minor": 5
}
